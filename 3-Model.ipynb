{
  "nbformat": 4,
  "nbformat_minor": 0,
  "metadata": {
    "colab": {
      "provenance": []
    },
    "kernelspec": {
      "name": "python3",
      "display_name": "Python 3"
    },
    "language_info": {
      "name": "python"
    }
  },
  "cells": [
    {
      "cell_type": "markdown",
      "source": [
        "## Veri Setini Yükleme:"
      ],
      "metadata": {
        "id": "jDh1N9fA7Vsx"
      }
    },
    {
      "cell_type": "code",
      "source": [
        "import nltk\n",
        "from nltk.corpus import twitter_samples"
      ],
      "metadata": {
        "id": "ug3wkp0C4lUf"
      },
      "execution_count": null,
      "outputs": []
    },
    {
      "cell_type": "code",
      "source": [
        "from nltk.corpus import stopwords"
      ],
      "metadata": {
        "id": "T9BHl2EFujGo"
      },
      "execution_count": null,
      "outputs": []
    },
    {
      "cell_type": "code",
      "source": [
        "nltk.download('twitter_samples')"
      ],
      "metadata": {
        "id": "iuzisg6z4lbs",
        "colab": {
          "base_uri": "https://localhost:8080/"
        },
        "outputId": "350cf660-eec2-4285-a03f-8d1c721c0598"
      },
      "execution_count": null,
      "outputs": [
        {
          "output_type": "stream",
          "name": "stderr",
          "text": [
            "[nltk_data] Downloading package twitter_samples to /root/nltk_data...\n",
            "[nltk_data]   Unzipping corpora/twitter_samples.zip.\n"
          ]
        },
        {
          "output_type": "execute_result",
          "data": {
            "text/plain": [
              "True"
            ]
          },
          "metadata": {},
          "execution_count": 3
        }
      ]
    },
    {
      "cell_type": "code",
      "source": [
        "nltk.download('stopwords')"
      ],
      "metadata": {
        "colab": {
          "base_uri": "https://localhost:8080/"
        },
        "id": "no9Pemc_uciD",
        "outputId": "980d5418-1c71-439f-dda4-08eccfd0ed82"
      },
      "execution_count": null,
      "outputs": [
        {
          "output_type": "stream",
          "name": "stderr",
          "text": [
            "[nltk_data] Downloading package stopwords to /root/nltk_data...\n",
            "[nltk_data]   Unzipping corpora/stopwords.zip.\n"
          ]
        },
        {
          "output_type": "execute_result",
          "data": {
            "text/plain": [
              "True"
            ]
          },
          "metadata": {},
          "execution_count": 6
        }
      ]
    },
    {
      "cell_type": "code",
      "source": [
        "from nltk.tokenize import TweetTokenizer"
      ],
      "metadata": {
        "id": "LduZqsJVuck0"
      },
      "execution_count": null,
      "outputs": []
    },
    {
      "cell_type": "code",
      "source": [
        "from nltk.stem import PorterStemmer"
      ],
      "metadata": {
        "id": "iIIsvNgZu-q0"
      },
      "execution_count": null,
      "outputs": []
    },
    {
      "cell_type": "code",
      "source": [
        "import re\n",
        "import pandas as pd"
      ],
      "metadata": {
        "id": "GhowEKiEvMNY"
      },
      "execution_count": null,
      "outputs": []
    },
    {
      "cell_type": "code",
      "source": [
        "negative_tweets = twitter_samples.strings(\"negative_tweets.json\")\n",
        "df_neg = pd.DataFrame(negative_tweets, columns = ['text'])\n",
        "df_neg['label'] = 0"
      ],
      "metadata": {
        "id": "FN0iH4KhvMQC"
      },
      "execution_count": null,
      "outputs": []
    },
    {
      "cell_type": "code",
      "source": [
        "positive_tweets = twitter_samples.strings(\"positive_tweets.json\")\n",
        "df_pos = pd.DataFrame(positive_tweets, columns = ['text'])\n",
        "df_pos['label'] = 1"
      ],
      "metadata": {
        "id": "Dq8Hlf_RvMU2"
      },
      "execution_count": null,
      "outputs": []
    },
    {
      "cell_type": "code",
      "source": [
        "df = pd.concat([df_neg,df_pos])\n",
        "df = df.sample(frac=1).reset_index(drop=True)"
      ],
      "metadata": {
        "id": "eOrVy-35wZ-X"
      },
      "execution_count": null,
      "outputs": []
    },
    {
      "cell_type": "code",
      "source": [
        "df.head(10)"
      ],
      "metadata": {
        "colab": {
          "base_uri": "https://localhost:8080/",
          "height": 363
        },
        "id": "pZlANFEew1bc",
        "outputId": "4fbfe8fd-ee4f-409f-dba1-96809e4ab6ae"
      },
      "execution_count": null,
      "outputs": [
        {
          "output_type": "execute_result",
          "data": {
            "text/plain": [
              "                                                text  label\n",
              "0                   @countrychoiceID min follback :(      0\n",
              "1  PLISSS TWEET THIS ELF :(\\nMy #TeenChoice for #...      0\n",
              "2  Hi BAM ! @BarsAndMelody \\nCan you follow my be...      1\n",
              "3  @NedretSirip Hey, here's your invite to join S...      1\n",
              "4  She lost us, her friends... :( she's the one w...      0\n",
              "5                               Stress let me go. :(      0\n",
              "6  The Tombow ABT has arrived :) https://t.co/LD6...      1\n",
              "7                       @CyprisJ thank u mistress :)      1\n",
              "8                 it's almost 12 but i'm so tired :(      0\n",
              "9                     Baby :( http://t.co/UR8ZwngzJZ      0"
            ],
            "text/html": [
              "\n",
              "  <div id=\"df-c519dd04-542e-495f-8c0e-7e91d414872e\" class=\"colab-df-container\">\n",
              "    <div>\n",
              "<style scoped>\n",
              "    .dataframe tbody tr th:only-of-type {\n",
              "        vertical-align: middle;\n",
              "    }\n",
              "\n",
              "    .dataframe tbody tr th {\n",
              "        vertical-align: top;\n",
              "    }\n",
              "\n",
              "    .dataframe thead th {\n",
              "        text-align: right;\n",
              "    }\n",
              "</style>\n",
              "<table border=\"1\" class=\"dataframe\">\n",
              "  <thead>\n",
              "    <tr style=\"text-align: right;\">\n",
              "      <th></th>\n",
              "      <th>text</th>\n",
              "      <th>label</th>\n",
              "    </tr>\n",
              "  </thead>\n",
              "  <tbody>\n",
              "    <tr>\n",
              "      <th>0</th>\n",
              "      <td>@countrychoiceID min follback :(</td>\n",
              "      <td>0</td>\n",
              "    </tr>\n",
              "    <tr>\n",
              "      <th>1</th>\n",
              "      <td>PLISSS TWEET THIS ELF :(\\nMy #TeenChoice for #...</td>\n",
              "      <td>0</td>\n",
              "    </tr>\n",
              "    <tr>\n",
              "      <th>2</th>\n",
              "      <td>Hi BAM ! @BarsAndMelody \\nCan you follow my be...</td>\n",
              "      <td>1</td>\n",
              "    </tr>\n",
              "    <tr>\n",
              "      <th>3</th>\n",
              "      <td>@NedretSirip Hey, here's your invite to join S...</td>\n",
              "      <td>1</td>\n",
              "    </tr>\n",
              "    <tr>\n",
              "      <th>4</th>\n",
              "      <td>She lost us, her friends... :( she's the one w...</td>\n",
              "      <td>0</td>\n",
              "    </tr>\n",
              "    <tr>\n",
              "      <th>5</th>\n",
              "      <td>Stress let me go. :(</td>\n",
              "      <td>0</td>\n",
              "    </tr>\n",
              "    <tr>\n",
              "      <th>6</th>\n",
              "      <td>The Tombow ABT has arrived :) https://t.co/LD6...</td>\n",
              "      <td>1</td>\n",
              "    </tr>\n",
              "    <tr>\n",
              "      <th>7</th>\n",
              "      <td>@CyprisJ thank u mistress :)</td>\n",
              "      <td>1</td>\n",
              "    </tr>\n",
              "    <tr>\n",
              "      <th>8</th>\n",
              "      <td>it's almost 12 but i'm so tired :(</td>\n",
              "      <td>0</td>\n",
              "    </tr>\n",
              "    <tr>\n",
              "      <th>9</th>\n",
              "      <td>Baby :( http://t.co/UR8ZwngzJZ</td>\n",
              "      <td>0</td>\n",
              "    </tr>\n",
              "  </tbody>\n",
              "</table>\n",
              "</div>\n",
              "    <div class=\"colab-df-buttons\">\n",
              "\n",
              "  <div class=\"colab-df-container\">\n",
              "    <button class=\"colab-df-convert\" onclick=\"convertToInteractive('df-c519dd04-542e-495f-8c0e-7e91d414872e')\"\n",
              "            title=\"Convert this dataframe to an interactive table.\"\n",
              "            style=\"display:none;\">\n",
              "\n",
              "  <svg xmlns=\"http://www.w3.org/2000/svg\" height=\"24px\" viewBox=\"0 -960 960 960\">\n",
              "    <path d=\"M120-120v-720h720v720H120Zm60-500h600v-160H180v160Zm220 220h160v-160H400v160Zm0 220h160v-160H400v160ZM180-400h160v-160H180v160Zm440 0h160v-160H620v160ZM180-180h160v-160H180v160Zm440 0h160v-160H620v160Z\"/>\n",
              "  </svg>\n",
              "    </button>\n",
              "\n",
              "  <style>\n",
              "    .colab-df-container {\n",
              "      display:flex;\n",
              "      gap: 12px;\n",
              "    }\n",
              "\n",
              "    .colab-df-convert {\n",
              "      background-color: #E8F0FE;\n",
              "      border: none;\n",
              "      border-radius: 50%;\n",
              "      cursor: pointer;\n",
              "      display: none;\n",
              "      fill: #1967D2;\n",
              "      height: 32px;\n",
              "      padding: 0 0 0 0;\n",
              "      width: 32px;\n",
              "    }\n",
              "\n",
              "    .colab-df-convert:hover {\n",
              "      background-color: #E2EBFA;\n",
              "      box-shadow: 0px 1px 2px rgba(60, 64, 67, 0.3), 0px 1px 3px 1px rgba(60, 64, 67, 0.15);\n",
              "      fill: #174EA6;\n",
              "    }\n",
              "\n",
              "    .colab-df-buttons div {\n",
              "      margin-bottom: 4px;\n",
              "    }\n",
              "\n",
              "    [theme=dark] .colab-df-convert {\n",
              "      background-color: #3B4455;\n",
              "      fill: #D2E3FC;\n",
              "    }\n",
              "\n",
              "    [theme=dark] .colab-df-convert:hover {\n",
              "      background-color: #434B5C;\n",
              "      box-shadow: 0px 1px 3px 1px rgba(0, 0, 0, 0.15);\n",
              "      filter: drop-shadow(0px 1px 2px rgba(0, 0, 0, 0.3));\n",
              "      fill: #FFFFFF;\n",
              "    }\n",
              "  </style>\n",
              "\n",
              "    <script>\n",
              "      const buttonEl =\n",
              "        document.querySelector('#df-c519dd04-542e-495f-8c0e-7e91d414872e button.colab-df-convert');\n",
              "      buttonEl.style.display =\n",
              "        google.colab.kernel.accessAllowed ? 'block' : 'none';\n",
              "\n",
              "      async function convertToInteractive(key) {\n",
              "        const element = document.querySelector('#df-c519dd04-542e-495f-8c0e-7e91d414872e');\n",
              "        const dataTable =\n",
              "          await google.colab.kernel.invokeFunction('convertToInteractive',\n",
              "                                                    [key], {});\n",
              "        if (!dataTable) return;\n",
              "\n",
              "        const docLinkHtml = 'Like what you see? Visit the ' +\n",
              "          '<a target=\"_blank\" href=https://colab.research.google.com/notebooks/data_table.ipynb>data table notebook</a>'\n",
              "          + ' to learn more about interactive tables.';\n",
              "        element.innerHTML = '';\n",
              "        dataTable['output_type'] = 'display_data';\n",
              "        await google.colab.output.renderOutput(dataTable, element);\n",
              "        const docLink = document.createElement('div');\n",
              "        docLink.innerHTML = docLinkHtml;\n",
              "        element.appendChild(docLink);\n",
              "      }\n",
              "    </script>\n",
              "  </div>\n",
              "\n",
              "\n",
              "<div id=\"df-a76000a5-109b-4c6a-9496-2de0dd396629\">\n",
              "  <button class=\"colab-df-quickchart\" onclick=\"quickchart('df-a76000a5-109b-4c6a-9496-2de0dd396629')\"\n",
              "            title=\"Suggest charts\"\n",
              "            style=\"display:none;\">\n",
              "\n",
              "<svg xmlns=\"http://www.w3.org/2000/svg\" height=\"24px\"viewBox=\"0 0 24 24\"\n",
              "     width=\"24px\">\n",
              "    <g>\n",
              "        <path d=\"M19 3H5c-1.1 0-2 .9-2 2v14c0 1.1.9 2 2 2h14c1.1 0 2-.9 2-2V5c0-1.1-.9-2-2-2zM9 17H7v-7h2v7zm4 0h-2V7h2v10zm4 0h-2v-4h2v4z\"/>\n",
              "    </g>\n",
              "</svg>\n",
              "  </button>\n",
              "\n",
              "<style>\n",
              "  .colab-df-quickchart {\n",
              "      --bg-color: #E8F0FE;\n",
              "      --fill-color: #1967D2;\n",
              "      --hover-bg-color: #E2EBFA;\n",
              "      --hover-fill-color: #174EA6;\n",
              "      --disabled-fill-color: #AAA;\n",
              "      --disabled-bg-color: #DDD;\n",
              "  }\n",
              "\n",
              "  [theme=dark] .colab-df-quickchart {\n",
              "      --bg-color: #3B4455;\n",
              "      --fill-color: #D2E3FC;\n",
              "      --hover-bg-color: #434B5C;\n",
              "      --hover-fill-color: #FFFFFF;\n",
              "      --disabled-bg-color: #3B4455;\n",
              "      --disabled-fill-color: #666;\n",
              "  }\n",
              "\n",
              "  .colab-df-quickchart {\n",
              "    background-color: var(--bg-color);\n",
              "    border: none;\n",
              "    border-radius: 50%;\n",
              "    cursor: pointer;\n",
              "    display: none;\n",
              "    fill: var(--fill-color);\n",
              "    height: 32px;\n",
              "    padding: 0;\n",
              "    width: 32px;\n",
              "  }\n",
              "\n",
              "  .colab-df-quickchart:hover {\n",
              "    background-color: var(--hover-bg-color);\n",
              "    box-shadow: 0 1px 2px rgba(60, 64, 67, 0.3), 0 1px 3px 1px rgba(60, 64, 67, 0.15);\n",
              "    fill: var(--button-hover-fill-color);\n",
              "  }\n",
              "\n",
              "  .colab-df-quickchart-complete:disabled,\n",
              "  .colab-df-quickchart-complete:disabled:hover {\n",
              "    background-color: var(--disabled-bg-color);\n",
              "    fill: var(--disabled-fill-color);\n",
              "    box-shadow: none;\n",
              "  }\n",
              "\n",
              "  .colab-df-spinner {\n",
              "    border: 2px solid var(--fill-color);\n",
              "    border-color: transparent;\n",
              "    border-bottom-color: var(--fill-color);\n",
              "    animation:\n",
              "      spin 1s steps(1) infinite;\n",
              "  }\n",
              "\n",
              "  @keyframes spin {\n",
              "    0% {\n",
              "      border-color: transparent;\n",
              "      border-bottom-color: var(--fill-color);\n",
              "      border-left-color: var(--fill-color);\n",
              "    }\n",
              "    20% {\n",
              "      border-color: transparent;\n",
              "      border-left-color: var(--fill-color);\n",
              "      border-top-color: var(--fill-color);\n",
              "    }\n",
              "    30% {\n",
              "      border-color: transparent;\n",
              "      border-left-color: var(--fill-color);\n",
              "      border-top-color: var(--fill-color);\n",
              "      border-right-color: var(--fill-color);\n",
              "    }\n",
              "    40% {\n",
              "      border-color: transparent;\n",
              "      border-right-color: var(--fill-color);\n",
              "      border-top-color: var(--fill-color);\n",
              "    }\n",
              "    60% {\n",
              "      border-color: transparent;\n",
              "      border-right-color: var(--fill-color);\n",
              "    }\n",
              "    80% {\n",
              "      border-color: transparent;\n",
              "      border-right-color: var(--fill-color);\n",
              "      border-bottom-color: var(--fill-color);\n",
              "    }\n",
              "    90% {\n",
              "      border-color: transparent;\n",
              "      border-bottom-color: var(--fill-color);\n",
              "    }\n",
              "  }\n",
              "</style>\n",
              "\n",
              "  <script>\n",
              "    async function quickchart(key) {\n",
              "      const quickchartButtonEl =\n",
              "        document.querySelector('#' + key + ' button');\n",
              "      quickchartButtonEl.disabled = true;  // To prevent multiple clicks.\n",
              "      quickchartButtonEl.classList.add('colab-df-spinner');\n",
              "      try {\n",
              "        const charts = await google.colab.kernel.invokeFunction(\n",
              "            'suggestCharts', [key], {});\n",
              "      } catch (error) {\n",
              "        console.error('Error during call to suggestCharts:', error);\n",
              "      }\n",
              "      quickchartButtonEl.classList.remove('colab-df-spinner');\n",
              "      quickchartButtonEl.classList.add('colab-df-quickchart-complete');\n",
              "    }\n",
              "    (() => {\n",
              "      let quickchartButtonEl =\n",
              "        document.querySelector('#df-a76000a5-109b-4c6a-9496-2de0dd396629 button');\n",
              "      quickchartButtonEl.style.display =\n",
              "        google.colab.kernel.accessAllowed ? 'block' : 'none';\n",
              "    })();\n",
              "  </script>\n",
              "</div>\n",
              "\n",
              "    </div>\n",
              "  </div>\n"
            ],
            "application/vnd.google.colaboratory.intrinsic+json": {
              "type": "dataframe",
              "variable_name": "df",
              "summary": "{\n  \"name\": \"df\",\n  \"rows\": 10000,\n  \"fields\": [\n    {\n      \"column\": \"text\",\n      \"properties\": {\n        \"dtype\": \"string\",\n        \"num_unique_values\": 10000,\n        \"samples\": [\n          \"@BookendsBinEnds thank you for following too. I will certainly have a look :)\",\n          \"@Varun_dvn Okeyyyyyy VDDDD :)));))))  So excited can't wait ... ! ! Love selfeeee pics on insta :) \\u2665\\u2665 special coco .. \\ud83d\\ude46\\ud83d\\ude4c\\ud83d\\ude1b\\ud83d\\ude04\\ud83d\\ude04\\ud83d\\ude01\\ud83d\\ude02\\ud83d\\ude02\\ud83d\\udc12\\ud83d\\ude01\\ud83d\\ude1d\\u2764 #dishoom\",\n          \"Two comes after one. Lessons once you learn make you realize how tough life can get. But nothing lasts forever. Not a thing. Ever. Lasts! :)\"\n        ],\n        \"semantic_type\": \"\",\n        \"description\": \"\"\n      }\n    },\n    {\n      \"column\": \"label\",\n      \"properties\": {\n        \"dtype\": \"number\",\n        \"std\": 0,\n        \"min\": 0,\n        \"max\": 1,\n        \"num_unique_values\": 2,\n        \"samples\": [\n          1,\n          0\n        ],\n        \"semantic_type\": \"\",\n        \"description\": \"\"\n      }\n    }\n  ]\n}"
            }
          },
          "metadata": {},
          "execution_count": 13
        }
      ]
    },
    {
      "cell_type": "markdown",
      "source": [
        "## Metinleri Ön İşleme:"
      ],
      "metadata": {
        "id": "_M0_Sr7i4llP"
      }
    },
    {
      "cell_type": "code",
      "source": [
        "nltk.download('punkt')"
      ],
      "metadata": {
        "id": "bplSMucd4nfq",
        "colab": {
          "base_uri": "https://localhost:8080/"
        },
        "outputId": "9624c194-af68-4f05-cb07-dfd9d77a17d4"
      },
      "execution_count": null,
      "outputs": [
        {
          "output_type": "stream",
          "name": "stderr",
          "text": [
            "[nltk_data] Downloading package punkt to /root/nltk_data...\n",
            "[nltk_data]   Unzipping tokenizers/punkt.zip.\n"
          ]
        },
        {
          "output_type": "execute_result",
          "data": {
            "text/plain": [
              "True"
            ]
          },
          "metadata": {},
          "execution_count": 14
        }
      ]
    },
    {
      "cell_type": "code",
      "source": [
        "from nltk.corpus import stopwords\n",
        "from nltk.tokenize import word_tokenize\n",
        "from nltk.stem import PorterStemmer\n",
        "import re\n",
        "\n",
        "# Metin Temizleme\n",
        "def clean_text(text):\n",
        "    text = re.sub(r'http\\S+', '', text)  # URL'leri kaldır\n",
        "    text = re.sub(r'\\@\\w+|\\#', '', text)  # Kullanıcı adlarını ve hashtagleri kaldır\n",
        "    text = re.sub(r'[^\\w\\s]', '', text)  # Özel karakterleri kaldır\n",
        "    return text\n",
        "\n",
        "# Metni Küçük Harfe Dönüştürme\n",
        "def lowercase(text):\n",
        "    return text.lower()\n",
        "\n",
        "# Tokenization\n",
        "def tokenize(text):\n",
        "    return word_tokenize(text)\n",
        "\n",
        "# Stopwords Temizleme\n",
        "def remove_stopwords(tokens):\n",
        "    stopwords_english = set(stopwords.words('english'))\n",
        "    return [word for word in tokens if word not in stopwords_english]\n",
        "\n",
        "# Stemming\n",
        "def stem(tokens):\n",
        "    stemmer = PorterStemmer()\n",
        "    return [stemmer.stem(word) for word in tokens]\n",
        "\n",
        "# Tüm Veri Ön İşleme Adımlarını Uygula\n",
        "def preprocess(text):\n",
        "    text = clean_text(text)\n",
        "    text = lowercase(text)\n",
        "    tokens = tokenize(text)\n",
        "    tokens = remove_stopwords(tokens)\n",
        "    tokens = stem(tokens)\n",
        "    return ' '.join(tokens)  # Token'ları birleştirerek temizlenmiş metni döndür\n",
        "\n",
        "# Ön İşleme Adımlarını Tüm DataFrame'e Uygula\n",
        "df['text_cleaned'] = df['text'].apply(preprocess)\n"
      ],
      "metadata": {
        "id": "d-o8cND14nlL"
      },
      "execution_count": null,
      "outputs": []
    },
    {
      "cell_type": "code",
      "source": [
        "df.head()"
      ],
      "metadata": {
        "colab": {
          "base_uri": "https://localhost:8080/",
          "height": 275
        },
        "id": "6dqM-hISzyna",
        "outputId": "1a40e849-9b96-470b-d44c-6d7d469c8802"
      },
      "execution_count": null,
      "outputs": [
        {
          "output_type": "execute_result",
          "data": {
            "text/plain": [
              "                                                text  label  \\\n",
              "0                   @countrychoiceID min follback :(      0   \n",
              "1  PLISSS TWEET THIS ELF :(\\nMy #TeenChoice for #...      0   \n",
              "2  Hi BAM ! @BarsAndMelody \\nCan you follow my be...      1   \n",
              "3  @NedretSirip Hey, here's your invite to join S...      1   \n",
              "4  She lost us, her friends... :( she's the one w...      0   \n",
              "\n",
              "                                        text_cleaned  \n",
              "0                                       min follback  \n",
              "1  plisss tweet elf teenchoic choiceinternational...  \n",
              "2  hi bam follow bestfriend love lot see warsaw l...  \n",
              "3                 hey here invit join scope influenc  \n",
              "4              lost us friend she one start argument  "
            ],
            "text/html": [
              "\n",
              "  <div id=\"df-6eed96e3-5d69-4865-8716-e02881c0f9d5\" class=\"colab-df-container\">\n",
              "    <div>\n",
              "<style scoped>\n",
              "    .dataframe tbody tr th:only-of-type {\n",
              "        vertical-align: middle;\n",
              "    }\n",
              "\n",
              "    .dataframe tbody tr th {\n",
              "        vertical-align: top;\n",
              "    }\n",
              "\n",
              "    .dataframe thead th {\n",
              "        text-align: right;\n",
              "    }\n",
              "</style>\n",
              "<table border=\"1\" class=\"dataframe\">\n",
              "  <thead>\n",
              "    <tr style=\"text-align: right;\">\n",
              "      <th></th>\n",
              "      <th>text</th>\n",
              "      <th>label</th>\n",
              "      <th>text_cleaned</th>\n",
              "    </tr>\n",
              "  </thead>\n",
              "  <tbody>\n",
              "    <tr>\n",
              "      <th>0</th>\n",
              "      <td>@countrychoiceID min follback :(</td>\n",
              "      <td>0</td>\n",
              "      <td>min follback</td>\n",
              "    </tr>\n",
              "    <tr>\n",
              "      <th>1</th>\n",
              "      <td>PLISSS TWEET THIS ELF :(\\nMy #TeenChoice for #...</td>\n",
              "      <td>0</td>\n",
              "      <td>plisss tweet elf teenchoic choiceinternational...</td>\n",
              "    </tr>\n",
              "    <tr>\n",
              "      <th>2</th>\n",
              "      <td>Hi BAM ! @BarsAndMelody \\nCan you follow my be...</td>\n",
              "      <td>1</td>\n",
              "      <td>hi bam follow bestfriend love lot see warsaw l...</td>\n",
              "    </tr>\n",
              "    <tr>\n",
              "      <th>3</th>\n",
              "      <td>@NedretSirip Hey, here's your invite to join S...</td>\n",
              "      <td>1</td>\n",
              "      <td>hey here invit join scope influenc</td>\n",
              "    </tr>\n",
              "    <tr>\n",
              "      <th>4</th>\n",
              "      <td>She lost us, her friends... :( she's the one w...</td>\n",
              "      <td>0</td>\n",
              "      <td>lost us friend she one start argument</td>\n",
              "    </tr>\n",
              "  </tbody>\n",
              "</table>\n",
              "</div>\n",
              "    <div class=\"colab-df-buttons\">\n",
              "\n",
              "  <div class=\"colab-df-container\">\n",
              "    <button class=\"colab-df-convert\" onclick=\"convertToInteractive('df-6eed96e3-5d69-4865-8716-e02881c0f9d5')\"\n",
              "            title=\"Convert this dataframe to an interactive table.\"\n",
              "            style=\"display:none;\">\n",
              "\n",
              "  <svg xmlns=\"http://www.w3.org/2000/svg\" height=\"24px\" viewBox=\"0 -960 960 960\">\n",
              "    <path d=\"M120-120v-720h720v720H120Zm60-500h600v-160H180v160Zm220 220h160v-160H400v160Zm0 220h160v-160H400v160ZM180-400h160v-160H180v160Zm440 0h160v-160H620v160ZM180-180h160v-160H180v160Zm440 0h160v-160H620v160Z\"/>\n",
              "  </svg>\n",
              "    </button>\n",
              "\n",
              "  <style>\n",
              "    .colab-df-container {\n",
              "      display:flex;\n",
              "      gap: 12px;\n",
              "    }\n",
              "\n",
              "    .colab-df-convert {\n",
              "      background-color: #E8F0FE;\n",
              "      border: none;\n",
              "      border-radius: 50%;\n",
              "      cursor: pointer;\n",
              "      display: none;\n",
              "      fill: #1967D2;\n",
              "      height: 32px;\n",
              "      padding: 0 0 0 0;\n",
              "      width: 32px;\n",
              "    }\n",
              "\n",
              "    .colab-df-convert:hover {\n",
              "      background-color: #E2EBFA;\n",
              "      box-shadow: 0px 1px 2px rgba(60, 64, 67, 0.3), 0px 1px 3px 1px rgba(60, 64, 67, 0.15);\n",
              "      fill: #174EA6;\n",
              "    }\n",
              "\n",
              "    .colab-df-buttons div {\n",
              "      margin-bottom: 4px;\n",
              "    }\n",
              "\n",
              "    [theme=dark] .colab-df-convert {\n",
              "      background-color: #3B4455;\n",
              "      fill: #D2E3FC;\n",
              "    }\n",
              "\n",
              "    [theme=dark] .colab-df-convert:hover {\n",
              "      background-color: #434B5C;\n",
              "      box-shadow: 0px 1px 3px 1px rgba(0, 0, 0, 0.15);\n",
              "      filter: drop-shadow(0px 1px 2px rgba(0, 0, 0, 0.3));\n",
              "      fill: #FFFFFF;\n",
              "    }\n",
              "  </style>\n",
              "\n",
              "    <script>\n",
              "      const buttonEl =\n",
              "        document.querySelector('#df-6eed96e3-5d69-4865-8716-e02881c0f9d5 button.colab-df-convert');\n",
              "      buttonEl.style.display =\n",
              "        google.colab.kernel.accessAllowed ? 'block' : 'none';\n",
              "\n",
              "      async function convertToInteractive(key) {\n",
              "        const element = document.querySelector('#df-6eed96e3-5d69-4865-8716-e02881c0f9d5');\n",
              "        const dataTable =\n",
              "          await google.colab.kernel.invokeFunction('convertToInteractive',\n",
              "                                                    [key], {});\n",
              "        if (!dataTable) return;\n",
              "\n",
              "        const docLinkHtml = 'Like what you see? Visit the ' +\n",
              "          '<a target=\"_blank\" href=https://colab.research.google.com/notebooks/data_table.ipynb>data table notebook</a>'\n",
              "          + ' to learn more about interactive tables.';\n",
              "        element.innerHTML = '';\n",
              "        dataTable['output_type'] = 'display_data';\n",
              "        await google.colab.output.renderOutput(dataTable, element);\n",
              "        const docLink = document.createElement('div');\n",
              "        docLink.innerHTML = docLinkHtml;\n",
              "        element.appendChild(docLink);\n",
              "      }\n",
              "    </script>\n",
              "  </div>\n",
              "\n",
              "\n",
              "<div id=\"df-433661dc-b281-44f4-9dcc-653388b4b395\">\n",
              "  <button class=\"colab-df-quickchart\" onclick=\"quickchart('df-433661dc-b281-44f4-9dcc-653388b4b395')\"\n",
              "            title=\"Suggest charts\"\n",
              "            style=\"display:none;\">\n",
              "\n",
              "<svg xmlns=\"http://www.w3.org/2000/svg\" height=\"24px\"viewBox=\"0 0 24 24\"\n",
              "     width=\"24px\">\n",
              "    <g>\n",
              "        <path d=\"M19 3H5c-1.1 0-2 .9-2 2v14c0 1.1.9 2 2 2h14c1.1 0 2-.9 2-2V5c0-1.1-.9-2-2-2zM9 17H7v-7h2v7zm4 0h-2V7h2v10zm4 0h-2v-4h2v4z\"/>\n",
              "    </g>\n",
              "</svg>\n",
              "  </button>\n",
              "\n",
              "<style>\n",
              "  .colab-df-quickchart {\n",
              "      --bg-color: #E8F0FE;\n",
              "      --fill-color: #1967D2;\n",
              "      --hover-bg-color: #E2EBFA;\n",
              "      --hover-fill-color: #174EA6;\n",
              "      --disabled-fill-color: #AAA;\n",
              "      --disabled-bg-color: #DDD;\n",
              "  }\n",
              "\n",
              "  [theme=dark] .colab-df-quickchart {\n",
              "      --bg-color: #3B4455;\n",
              "      --fill-color: #D2E3FC;\n",
              "      --hover-bg-color: #434B5C;\n",
              "      --hover-fill-color: #FFFFFF;\n",
              "      --disabled-bg-color: #3B4455;\n",
              "      --disabled-fill-color: #666;\n",
              "  }\n",
              "\n",
              "  .colab-df-quickchart {\n",
              "    background-color: var(--bg-color);\n",
              "    border: none;\n",
              "    border-radius: 50%;\n",
              "    cursor: pointer;\n",
              "    display: none;\n",
              "    fill: var(--fill-color);\n",
              "    height: 32px;\n",
              "    padding: 0;\n",
              "    width: 32px;\n",
              "  }\n",
              "\n",
              "  .colab-df-quickchart:hover {\n",
              "    background-color: var(--hover-bg-color);\n",
              "    box-shadow: 0 1px 2px rgba(60, 64, 67, 0.3), 0 1px 3px 1px rgba(60, 64, 67, 0.15);\n",
              "    fill: var(--button-hover-fill-color);\n",
              "  }\n",
              "\n",
              "  .colab-df-quickchart-complete:disabled,\n",
              "  .colab-df-quickchart-complete:disabled:hover {\n",
              "    background-color: var(--disabled-bg-color);\n",
              "    fill: var(--disabled-fill-color);\n",
              "    box-shadow: none;\n",
              "  }\n",
              "\n",
              "  .colab-df-spinner {\n",
              "    border: 2px solid var(--fill-color);\n",
              "    border-color: transparent;\n",
              "    border-bottom-color: var(--fill-color);\n",
              "    animation:\n",
              "      spin 1s steps(1) infinite;\n",
              "  }\n",
              "\n",
              "  @keyframes spin {\n",
              "    0% {\n",
              "      border-color: transparent;\n",
              "      border-bottom-color: var(--fill-color);\n",
              "      border-left-color: var(--fill-color);\n",
              "    }\n",
              "    20% {\n",
              "      border-color: transparent;\n",
              "      border-left-color: var(--fill-color);\n",
              "      border-top-color: var(--fill-color);\n",
              "    }\n",
              "    30% {\n",
              "      border-color: transparent;\n",
              "      border-left-color: var(--fill-color);\n",
              "      border-top-color: var(--fill-color);\n",
              "      border-right-color: var(--fill-color);\n",
              "    }\n",
              "    40% {\n",
              "      border-color: transparent;\n",
              "      border-right-color: var(--fill-color);\n",
              "      border-top-color: var(--fill-color);\n",
              "    }\n",
              "    60% {\n",
              "      border-color: transparent;\n",
              "      border-right-color: var(--fill-color);\n",
              "    }\n",
              "    80% {\n",
              "      border-color: transparent;\n",
              "      border-right-color: var(--fill-color);\n",
              "      border-bottom-color: var(--fill-color);\n",
              "    }\n",
              "    90% {\n",
              "      border-color: transparent;\n",
              "      border-bottom-color: var(--fill-color);\n",
              "    }\n",
              "  }\n",
              "</style>\n",
              "\n",
              "  <script>\n",
              "    async function quickchart(key) {\n",
              "      const quickchartButtonEl =\n",
              "        document.querySelector('#' + key + ' button');\n",
              "      quickchartButtonEl.disabled = true;  // To prevent multiple clicks.\n",
              "      quickchartButtonEl.classList.add('colab-df-spinner');\n",
              "      try {\n",
              "        const charts = await google.colab.kernel.invokeFunction(\n",
              "            'suggestCharts', [key], {});\n",
              "      } catch (error) {\n",
              "        console.error('Error during call to suggestCharts:', error);\n",
              "      }\n",
              "      quickchartButtonEl.classList.remove('colab-df-spinner');\n",
              "      quickchartButtonEl.classList.add('colab-df-quickchart-complete');\n",
              "    }\n",
              "    (() => {\n",
              "      let quickchartButtonEl =\n",
              "        document.querySelector('#df-433661dc-b281-44f4-9dcc-653388b4b395 button');\n",
              "      quickchartButtonEl.style.display =\n",
              "        google.colab.kernel.accessAllowed ? 'block' : 'none';\n",
              "    })();\n",
              "  </script>\n",
              "</div>\n",
              "\n",
              "    </div>\n",
              "  </div>\n"
            ],
            "application/vnd.google.colaboratory.intrinsic+json": {
              "type": "dataframe",
              "variable_name": "df",
              "summary": "{\n  \"name\": \"df\",\n  \"rows\": 10000,\n  \"fields\": [\n    {\n      \"column\": \"text\",\n      \"properties\": {\n        \"dtype\": \"string\",\n        \"num_unique_values\": 10000,\n        \"samples\": [\n          \"@BookendsBinEnds thank you for following too. I will certainly have a look :)\",\n          \"@Varun_dvn Okeyyyyyy VDDDD :)));))))  So excited can't wait ... ! ! Love selfeeee pics on insta :) \\u2665\\u2665 special coco .. \\ud83d\\ude46\\ud83d\\ude4c\\ud83d\\ude1b\\ud83d\\ude04\\ud83d\\ude04\\ud83d\\ude01\\ud83d\\ude02\\ud83d\\ude02\\ud83d\\udc12\\ud83d\\ude01\\ud83d\\ude1d\\u2764 #dishoom\",\n          \"Two comes after one. Lessons once you learn make you realize how tough life can get. But nothing lasts forever. Not a thing. Ever. Lasts! :)\"\n        ],\n        \"semantic_type\": \"\",\n        \"description\": \"\"\n      }\n    },\n    {\n      \"column\": \"label\",\n      \"properties\": {\n        \"dtype\": \"number\",\n        \"std\": 0,\n        \"min\": 0,\n        \"max\": 1,\n        \"num_unique_values\": 2,\n        \"samples\": [\n          1,\n          0\n        ],\n        \"semantic_type\": \"\",\n        \"description\": \"\"\n      }\n    },\n    {\n      \"column\": \"text_cleaned\",\n      \"properties\": {\n        \"dtype\": \"string\",\n        \"num_unique_values\": 9038,\n        \"samples\": [\n          \"long hair men make world better place\",\n          \"your go die im sorri\"\n        ],\n        \"semantic_type\": \"\",\n        \"description\": \"\"\n      }\n    }\n  ]\n}"
            }
          },
          "metadata": {},
          "execution_count": 16
        }
      ]
    },
    {
      "cell_type": "markdown",
      "source": [
        "## Kelime Bulutu"
      ],
      "metadata": {
        "id": "lAeMia5mpKa8"
      }
    },
    {
      "cell_type": "code",
      "source": [
        "from nltk.probability import FreqDist\n",
        "from wordcloud import WordCloud\n",
        "import matplotlib.pyplot as plt\n",
        "import re\n"
      ],
      "metadata": {
        "id": "L2sNAnhL57FK"
      },
      "execution_count": null,
      "outputs": []
    },
    {
      "cell_type": "code",
      "source": [
        "word = FreqDist(df['text_cleaned'])\n",
        "wordcloud = WordCloud(width= 400, height=200,\n",
        "        background_color= 'white').generate_from_frequencies(word)\n"
      ],
      "metadata": {
        "id": "M2PnfZKT06Ne"
      },
      "execution_count": null,
      "outputs": []
    },
    {
      "cell_type": "code",
      "source": [
        "plt.figure(figsize=(5,3))\n",
        "plt.imshow(wordcloud)\n",
        "plt.axis(\"off\")\n",
        "plt.show()"
      ],
      "metadata": {
        "id": "t_oUqNTr4xU4",
        "colab": {
          "base_uri": "https://localhost:8080/",
          "height": 230
        },
        "outputId": "2357ac99-19af-4c7c-d59e-819c2f9052b8"
      },
      "execution_count": null,
      "outputs": [
        {
          "output_type": "display_data",
          "data": {
            "text/plain": [
              "<Figure size 500x300 with 1 Axes>"
            ],
            "image/png": "[encoded data removed]"
          },
          "metadata": {}
        }
      ]
    },
    {
      "cell_type": "markdown",
      "source": [
        "## Öznitelik Çıkarımı:"
      ],
      "metadata": {
        "id": "u2hsoLfi7xvC"
      }
    },
    {
      "cell_type": "markdown",
      "source": [
        "## Tf Idf"
      ],
      "metadata": {
        "id": "w0xwt9a7LbhJ"
      }
    },
    {
      "cell_type": "code",
      "source": [
        "from sklearn.feature_extraction.text import TfidfVectorizer\n",
        "vectorizer = TfidfVectorizer(max_features=10000)\n",
        "tfidf_matrix = vectorizer.fit_transform(df['text_cleaned'])\n",
        "feature_names = vectorizer.get_feature_names_out()\n",
        "print(\"td Idf matris: \",tfidf_matrix.shape)"
      ],
      "metadata": {
        "colab": {
          "base_uri": "https://localhost:8080/"
        },
        "id": "EmwK7ouy1LcX",
        "outputId": "ff61be99-064f-4bb1-8969-0946597765cd"
      },
      "execution_count": null,
      "outputs": [
        {
          "output_type": "stream",
          "name": "stdout",
          "text": [
            "td Idf matris:  (10000, 10000)\n"
          ]
        }
      ]
    },
    {
      "cell_type": "markdown",
      "source": [
        "## Model Eğitimi"
      ],
      "metadata": {
        "id": "Rzv2wVEcfHm4"
      }
    },
    {
      "cell_type": "code",
      "source": [
        "from sklearn.model_selection import train_test_split\n",
        "X_train,X_test,y_train,y_test = train_test_split(tfidf_matrix,\n",
        "                        df['label'], test_size = 0.2, random_state=42)"
      ],
      "metadata": {
        "id": "H6aeAwxk402X"
      },
      "execution_count": null,
      "outputs": []
    },
    {
      "cell_type": "markdown",
      "source": [
        "## KNN"
      ],
      "metadata": {
        "id": "G_KNEliTVTfx"
      }
    },
    {
      "cell_type": "markdown",
      "source": [
        "### Sınıflandırma ve regresyon algoritmasıdır.\n",
        "\n",
        "Sınıflandırma için kullanıldığında, bir örneğin sınıfını belirlemek için komşularının sınıflarına bakar ve en yaygın olan sınıfı tahmin eder.\n",
        "\n",
        "Regresyon için kullanıldığında ise, bir örneğin çıktısını belirlemek için komşularının çıktılarına bakar ve bu çıktıların ortalamasını kullanır."
      ],
      "metadata": {
        "id": "LPgZxyt4i-N2"
      }
    },
    {
      "cell_type": "code",
      "source": [
        "from sklearn.metrics import accuracy_score\n",
        "from sklearn.metrics import f1_score\n",
        "from sklearn.metrics import recall_score\n",
        "from sklearn.metrics import precision_score"
      ],
      "metadata": {
        "id": "mumbT-xb45Dh"
      },
      "execution_count": null,
      "outputs": []
    },
    {
      "cell_type": "code",
      "source": [
        "from sklearn.neighbors import KNeighborsClassifier\n",
        "knn = KNeighborsClassifier(n_neighbors=10)\n",
        "knn.fit(X_train,y_train)\n",
        "y_pred = knn.predict(X_test)"
      ],
      "metadata": {
        "id": "byZ3OpFo5W5G"
      },
      "execution_count": null,
      "outputs": []
    },
    {
      "cell_type": "markdown",
      "source": [
        "## Performans Değerlendirme Metrikleri"
      ],
      "metadata": {
        "id": "a-PLNBqH6uK6"
      }
    },
    {
      "cell_type": "markdown",
      "source": [
        "![image.png](data:image/png;base64,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) ![image.png](data:image/png;base64,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)\n"
      ],
      "metadata": {
        "id": "O7SwtcyH6rCK"
      }
    },
    {
      "cell_type": "code",
      "source": [
        "print(\"knn sonuçları\")\n",
        "print(\"Doğruluk: \",accuracy_score(y_test,y_pred))\n",
        "print(\"F1: \",f1_score(y_test,y_pred))\n",
        "print(\"Hassasiyet\",recall_score(y_test,y_pred))\n",
        "print(\"Kesinlik\",precision_score(y_test,y_pred))"
      ],
      "metadata": {
        "id": "_X8KB6Ny5XAI",
        "colab": {
          "base_uri": "https://localhost:8080/"
        },
        "outputId": "35f6a401-e674-4ba3-a28e-cdb29bc8782b"
      },
      "execution_count": null,
      "outputs": [
        {
          "output_type": "stream",
          "name": "stdout",
          "text": [
            "knn sonuçları\n",
            "Doğruluk:  0.6\n",
            "F1:  0.37106918238993714\n",
            "Hassasiyet 0.23647294589178355\n",
            "Kesinlik 0.8613138686131386\n"
          ]
        }
      ]
    },
    {
      "cell_type": "markdown",
      "source": [
        "# Confusion Matrix"
      ],
      "metadata": {
        "id": "6PptDUUFLGhC"
      }
    },
    {
      "cell_type": "code",
      "source": [
        "from sklearn.metrics import confusion_matrix\n",
        "import matplotlib.pyplot as plt\n",
        "import seaborn as sns"
      ],
      "metadata": {
        "id": "vSO1IOyv-fAF"
      },
      "execution_count": null,
      "outputs": []
    },
    {
      "cell_type": "code",
      "source": [
        "cm = confusion_matrix(y_test ,y_pred)\n",
        "plt.figure(figsize = (4,3))\n",
        "sns.heatmap(cm, annot= True, fmt='d', cmap = 'Blues')"
      ],
      "metadata": {
        "colab": {
          "base_uri": "https://localhost:8080/",
          "height": 308
        },
        "id": "hVmQfVQQ-s84",
        "outputId": "9f7a150e-f9c6-4a73-e256-a4ce77dcc165"
      },
      "execution_count": null,
      "outputs": [
        {
          "output_type": "execute_result",
          "data": {
            "text/plain": [
              "<Axes: >"
            ]
          },
          "metadata": {},
          "execution_count": 39
        },
        {
          "output_type": "display_data",
          "data": {
            "text/plain": [
              "<Figure size 400x300 with 2 Axes>"
            ],
            "image/png": "[encoded data removed]"
          },
          "metadata": {}
        }
      ]
    },
    {
      "cell_type": "markdown",
      "source": [
        "## RandomForest"
      ],
      "metadata": {
        "id": "2wa1WBZUVKON"
      }
    },
    {
      "cell_type": "markdown",
      "source": [
        "### Random Forest, sınıflandırma ve regresyon problemleri için kullanılan bir makine öğrenimi algoritmasıdır. Temelde birden fazla karar ağacını bir araya getirerek daha güçlü ve kararlı bir model oluşturur.\n",
        "\n",
        "> knn e göre daha yavaştır"
      ],
      "metadata": {
        "id": "Rc11OfjPieaw"
      }
    },
    {
      "cell_type": "code",
      "source": [
        "from sklearn.ensemble import RandomForestClassifier\n",
        "clf = RandomForestClassifier(n_estimators= 150)\n",
        "clf.fit(X_train,y_train)\n",
        "y_pred_clf = clf.predict(X_test)"
      ],
      "metadata": {
        "id": "ZE9TK59Q7H3A"
      },
      "execution_count": null,
      "outputs": []
    },
    {
      "cell_type": "code",
      "source": [
        "print(\"Random Forest sonuçları\")\n",
        "print(\"Doğruluk: \",accuracy_score(y_test,y_pred_clf))\n",
        "print(\"F1: \",f1_score(y_test,y_pred_clf))\n",
        "print(\"Hassasiyet\",recall_score(y_test,y_pred_clf))\n",
        "print(\"Kesinlik\",precision_score(y_test,y_pred_clf))"
      ],
      "metadata": {
        "colab": {
          "base_uri": "https://localhost:8080/"
        },
        "id": "LiSkt57G-Fyk",
        "outputId": "8a40e1bb-6bec-4b5c-ee62-46ed0654029a"
      },
      "execution_count": null,
      "outputs": [
        {
          "output_type": "stream",
          "name": "stdout",
          "text": [
            "Random Forest sonuçları\n",
            "Doğruluk:  0.7485\n",
            "F1:  0.7291330102315562\n",
            "Hassasiyet 0.6783567134268537\n",
            "Kesinlik 0.7881257275902211\n"
          ]
        }
      ]
    },
    {
      "cell_type": "code",
      "source": [
        "cm = confusion_matrix(y_test ,y_pred_clf)\n",
        "plt.figure(figsize = (4,3))\n",
        "sns.heatmap(cm, annot= True, fmt='d', cmap = 'Blues')"
      ],
      "metadata": {
        "colab": {
          "base_uri": "https://localhost:8080/",
          "height": 308
        },
        "id": "RvNPtEBS_bV7",
        "outputId": "47a4e903-e7d8-4478-ab8f-8ff4edddc474"
      },
      "execution_count": null,
      "outputs": [
        {
          "output_type": "execute_result",
          "data": {
            "text/plain": [
              "<Axes: >"
            ]
          },
          "metadata": {},
          "execution_count": 40
        },
        {
          "output_type": "display_data",
          "data": {
            "text/plain": [
              "<Figure size 400x300 with 2 Axes>"
            ],
            "image/png": "[encoded data removed]"
          },
          "metadata": {}
        }
      ]
    },
    {
      "cell_type": "markdown",
      "source": [
        "![image.png](data:image/png;base64,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)"
      ],
      "metadata": {
        "id": "J7p4pti76zlo"
      }
    },
    {
      "cell_type": "code",
      "source": [],
      "metadata": {
        "id": "65mAFaZL5Xrs"
      },
      "execution_count": null,
      "outputs": []
    },
    {
      "cell_type": "code",
      "source": [],
      "metadata": {
        "id": "DSkicPEY5XwJ"
      },
      "execution_count": null,
      "outputs": []
    },
    {
      "cell_type": "markdown",
      "source": [
        "## Logistic Regresyon"
      ],
      "metadata": {
        "id": "SDl4darHVNy1"
      }
    },
    {
      "cell_type": "markdown",
      "source": [
        "### Logistic Regresyon, sınıflandırma problemleri için kullanılan bir makine öğrenimi algoritmasıdır. Özellikle ikili sınıflandırma problemlerinde yaygın olarak kullanılır."
      ],
      "metadata": {
        "id": "sC9NaLdHh6h8"
      }
    },
    {
      "cell_type": "code",
      "source": [
        "from sklearn.linear_model import LogisticRegression\n",
        "lr = LogisticRegression()\n",
        "lr.fit(X_train,y_train)\n",
        "y_pred_lr = lr.predict(X_test)"
      ],
      "metadata": {
        "id": "i1aHT1Mc5Z2z"
      },
      "execution_count": null,
      "outputs": []
    },
    {
      "cell_type": "code",
      "source": [
        "print(\"LR sonuçları\")\n",
        "print(\"Doğruluk: \",accuracy_score(y_test,y_pred_lr))\n",
        "print(\"F1: \",f1_score(y_test,y_pred_lr))\n",
        "print(\"Hassasiyet\",recall_score(y_test,y_pred_lr))\n",
        "print(\"Kesinlik\",precision_score(y_test,y_pred_lr))"
      ],
      "metadata": {
        "id": "2DGWBAhV5Z84",
        "colab": {
          "base_uri": "https://localhost:8080/"
        },
        "outputId": "4808528a-dbd9-4b52-eb3b-35b2858f535b"
      },
      "execution_count": null,
      "outputs": [
        {
          "output_type": "stream",
          "name": "stdout",
          "text": [
            "LR sonuçları\n",
            "Doğruluk:  0.7535\n",
            "F1:  0.746268656716418\n",
            "Hassasiyet 0.7264529058116233\n",
            "Kesinlik 0.7671957671957672\n"
          ]
        }
      ]
    },
    {
      "cell_type": "code",
      "source": [
        "cm = confusion_matrix(y_test ,y_pred_lr)\n",
        "plt.figure(figsize = (4,3))\n",
        "sns.heatmap(cm, annot= True, fmt='d', cmap = 'Blues')"
      ],
      "metadata": {
        "colab": {
          "base_uri": "https://localhost:8080/",
          "height": 308
        },
        "id": "JkxnjB6qAl9f",
        "outputId": "8f9bb37a-f7f4-4618-a20f-e3949ba8fd25"
      },
      "execution_count": null,
      "outputs": [
        {
          "output_type": "execute_result",
          "data": {
            "text/plain": [
              "<Axes: >"
            ]
          },
          "metadata": {},
          "execution_count": 44
        },
        {
          "output_type": "display_data",
          "data": {
            "text/plain": [
              "<Figure size 400x300 with 2 Axes>"
            ],
            "image/png": "[encoded data removed]"
          },
          "metadata": {}
        }
      ]
    },
    {
      "cell_type": "markdown",
      "source": [
        "## SVM (Destek Vektör Makineleri (Support Vector Machines))"
      ],
      "metadata": {
        "id": "iZjdKWyJgyv2"
      }
    },
    {
      "cell_type": "markdown",
      "source": [
        "### Belirlenen iki kategoriden birine ya da diğerine ait olarak işaretlenmiş bir dizi eğitim örneği verildiğinde, SVM eğitim algoritması, bir olasılık dışı ikili doğrusal sınıflandırıcı haline getirerek bir kategoriye ya da diğerine yeni örnekler atayan bir model oluşturur.\n",
        "\n",
        "> bu algoritma da yavaş çalışan bir algoritma"
      ],
      "metadata": {
        "id": "aV_EgZFhhlz5"
      }
    },
    {
      "cell_type": "code",
      "source": [
        "from sklearn.svm import SVC\n",
        "svm = SVC(kernel = 'linear')\n",
        "svm.fit(X_train,y_train)\n",
        "y_pred_svm = svm.predict(X_test)"
      ],
      "metadata": {
        "id": "H9DQKrtH5cIx"
      },
      "execution_count": null,
      "outputs": []
    },
    {
      "cell_type": "code",
      "source": [
        "print(\"SVM sonuçları\")\n",
        "print(\"Doğruluk: \",accuracy_score(y_test,y_pred_svm))\n",
        "print(\"F1: \",f1_score(y_test,y_pred_svm))\n",
        "print(\"Hassasiyet\",recall_score(y_test,y_pred_svm))\n",
        "print(\"Kesinlik\",precision_score(y_test,y_pred_svm))"
      ],
      "metadata": {
        "id": "k2KjJLq95cND",
        "colab": {
          "base_uri": "https://localhost:8080/"
        },
        "outputId": "ec5ec1c1-a562-488a-dc5c-5b9cedba184e"
      },
      "execution_count": null,
      "outputs": [
        {
          "output_type": "stream",
          "name": "stdout",
          "text": [
            "SVM sonuçları\n",
            "Doğruluk:  0.755\n",
            "F1:  0.7502548419979612\n",
            "Hassasiyet 0.7374749498997996\n",
            "Kesinlik 0.7634854771784232\n"
          ]
        }
      ]
    },
    {
      "cell_type": "code",
      "source": [
        "cm = confusion_matrix(y_test ,y_pred_svm)\n",
        "plt.figure(figsize = (4,3))\n",
        "sns.heatmap(cm, annot= True, fmt='d', cmap = 'Blues')"
      ],
      "metadata": {
        "id": "BEeZ803L5tTb",
        "colab": {
          "base_uri": "https://localhost:8080/",
          "height": 308
        },
        "outputId": "ec1e5ec4-88fe-4ef0-c293-e2ae616a0392"
      },
      "execution_count": null,
      "outputs": [
        {
          "output_type": "execute_result",
          "data": {
            "text/plain": [
              "<Axes: >"
            ]
          },
          "metadata": {},
          "execution_count": 47
        },
        {
          "output_type": "display_data",
          "data": {
            "text/plain": [
              "<Figure size 400x300 with 2 Axes>"
            ],
            "image/png": "[encoded data removed]"
          },
          "metadata": {}
        }
      ]
    },
    {
      "cell_type": "code",
      "source": [],
      "metadata": {
        "id": "UXE58J7q5tY9"
      },
      "execution_count": null,
      "outputs": []
    }
  ]
}